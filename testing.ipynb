{
 "cells": [
  {
   "cell_type": "markdown",
   "metadata": {},
   "source": [
    "# Install additional Python libraries"
   ]
  },
  {
   "cell_type": "code",
   "execution_count": 1,
   "metadata": {},
   "outputs": [],
   "source": [
    "# !pip install quantities"
   ]
  },
  {
   "cell_type": "markdown",
   "metadata": {},
   "source": [
    "# Delete existing DB"
   ]
  },
  {
   "cell_type": "code",
   "execution_count": 2,
   "metadata": {},
   "outputs": [],
   "source": [
    "!rm simoc_server/db.sqlite"
   ]
  },
  {
   "cell_type": "markdown",
   "metadata": {},
   "source": [
    "# Import Python libraries"
   ]
  },
  {
   "cell_type": "code",
   "execution_count": 3,
   "metadata": {},
   "outputs": [],
   "source": [
    "import json\n",
    "from random import randint"
   ]
  },
  {
   "cell_type": "code",
   "execution_count": 4,
   "metadata": {},
   "outputs": [],
   "source": [
    "import pprint\n",
    "pp = pprint.PrettyPrinter()"
   ]
  },
  {
   "cell_type": "code",
   "execution_count": 5,
   "metadata": {},
   "outputs": [
    {
     "name": "stdout",
     "output_type": "stream",
     "text": [
      "Unknown DB_TYPE variable: \"None\"\n",
      "Using SQLite by default\n"
     ]
    }
   ],
   "source": [
    "from simoc_server import app, db\n",
    "from simoc_server.database.db_model import User\n",
    "from simoc_server.database.seed_data import seed\n",
    "from simoc_server.game_runner import GameRunnerManager, GameRunnerInitializationParams"
   ]
  },
  {
   "cell_type": "markdown",
   "metadata": {},
   "source": [
    "# Load Agent model"
   ]
  },
  {
   "cell_type": "code",
   "execution_count": 6,
   "metadata": {
    "scrolled": false
   },
   "outputs": [],
   "source": [
    "db.drop_all()\n",
    "db.create_all()\n",
    "seed.seed('agent_desc.json')"
   ]
  },
  {
   "cell_type": "markdown",
   "metadata": {},
   "source": [
    "# Create new user"
   ]
  },
  {
   "cell_type": "code",
   "execution_count": 7,
   "metadata": {},
   "outputs": [
    {
     "name": "stdout",
     "output_type": "stream",
     "text": [
      "Creating new user\n"
     ]
    }
   ],
   "source": [
    "username = 'user1'\n",
    "password = 'user1'\n",
    "\n",
    "user = User.query.filter_by(username=username).first()\n",
    "if not user:\n",
    "    print('Creating new user')\n",
    "    user = User(username=username)\n",
    "    user.set_password(password)\n",
    "    db.session.add(user)\n",
    "    db.session.commit()"
   ]
  },
  {
   "cell_type": "markdown",
   "metadata": {},
   "source": [
    "# Initialize the ABM"
   ]
  },
  {
   "cell_type": "code",
   "execution_count": 8,
   "metadata": {
    "scrolled": false
   },
   "outputs": [],
   "source": [
    "game_config = {\"agents\": {\n",
    "    \"human_agent\": [{\"connections\": {\"air_storage\": [1], \"water_storage\": [1, 2], \"food_storage\": [1]}, \"amount\": 10}],\n",
    "    \"cabbage\": [{\"connections\": {\"air_storage\": [1], \"water_storage\": [1, 2], \"nutrient_storage\": [1],\n",
    "                                 \"power_storage\": [1], \"food_storage\": [1]}, \"amount\": 10}],\n",
    "    \"lettuce\": [{\"connections\": {\"air_storage\": [1], \"water_storage\": [1, 2], \"nutrient_storage\": [1],\n",
    "                                 \"power_storage\": [1], \"food_storage\": [1]}, \"amount\": 10}],\n",
    "    \"greenhouse_medium\": [{\"connections\": {\"power_storage\": [1]}, \"amount\": 1}],\n",
    "    \"solar_pv_array\": [{\"connections\": {\"power_storage\": [1]}, \"amount\": 100}],\n",
    "    \"multifiltration_purifier_post_treament\": [{\"connections\": {\"water_storage\": [1, 2]}, \"amount\": 1}],\n",
    "    \"urine_recycling_processor_VCD\": [{\"connections\": {\"power_storage\": [1], \"water_storage\": [1, 2]}, \"amount\": 1}],\n",
    "    \"co2_removal_SAWD\": [{\"connections\": {\"power_storage\": [1], \"air_storage\": [1]}, \"amount\": 1}]},\n",
    "\"storages\": {\n",
    "    \"air_storage\": [{\"id\": 1, \"atmo_h2o\": 100, \"atmo_o2\": 100, \"atmo_co2\": 100}],\n",
    "    \"water_storage\": [{\"id\": 1, \"h2o_potb\": 100, \"h2o_tret\": 100}, {\"id\": 2, \"h2o_wste\": 100, \"h2o_urin\": 0}],\n",
    "    \"nutrient_storage\": [{\"id\": 1, \"sold_n\": 100, \"sold_p\": 100, \"sold_k\": 100}],\n",
    "    \"power_storage\": [{\"id\": 1, \"enrg_kwh\": 1000}],\n",
    "    \"food_storage\": [{\"id\": 1, \"food_edbl\": 1000}]},\n",
    "\"termination\": {\n",
    "    \"time\": {\"value\": 2000, \"unit\": \"hour\"}},\n",
    "    \"food_leaf\": {\"value\": 10000, \"unit\": \"kg\"},\n",
    "    \"evacuation\": {}\n",
    "}"
   ]
  },
  {
   "cell_type": "code",
   "execution_count": 9,
   "metadata": {
    "scrolled": false
   },
   "outputs": [],
   "source": [
    "game_config = {\"agents\": {\n",
    "    \"human_agent\": [{\"connections\": {}, \"amount\": 10}],\n",
    "    \"cabbage\": [{\"connections\": {}, \"amount\": 10}],\n",
    "    \"lettuce\": [{\"connections\": {}, \"amount\": 10}],\n",
    "    \"greenhouse_medium\": [{\"connections\": {}, \"amount\": 1}],\n",
    "    \"solar_pv_array\": [{\"connections\": {}, \"amount\": 100}],\n",
    "    \"multifiltration_purifier_post_treament\": [{\"connections\": {}, \"amount\": 1}],\n",
    "    \"urine_recycling_processor_VCD\": [{\"connections\": {}, \"amount\": 1}],\n",
    "    \"co2_removal_SAWD\": [{\"connections\": {}, \"amount\": 1}]},\n",
    "\"storages\": {\n",
    "    \"air_storage\": [{\"id\": 1, \"atmo_h2o\": 100, \"atmo_o2\": 100, \"atmo_co2\": 100}],\n",
    "    \"water_storage\": [{\"id\": 1, \"h2o_potb\": 100, \"h2o_tret\": 100}, {\"id\": 2, \"h2o_wste\": 100, \"h2o_urin\": 0}],\n",
    "    \"nutrient_storage\": [{\"id\": 1, \"sold_n\": 100, \"sold_p\": 100, \"sold_k\": 100}],\n",
    "    \"power_storage\": [{\"id\": 1, \"enrg_kwh\": 1000}],\n",
    "    \"food_storage\": [{\"id\": 1, \"food_edbl\": 1000}]},\n",
    "\"termination\": {\n",
    "    \"time\": {\"value\": 2000, \"unit\": \"hour\"}},\n",
    "    \"food_leaf\": {\"value\": 10000, \"unit\": \"kg\"},\n",
    "    \"evacuation\": {}\n",
    "}"
   ]
  },
  {
   "cell_type": "code",
   "execution_count": 9,
   "metadata": {
    "scrolled": false
   },
   "outputs": [],
   "source": [
    "game_runner_manager = GameRunnerManager()\n",
    "game_runner_init_params = GameRunnerInitializationParams(game_config)\n",
    "game_runner_manager.new_game(user, game_runner_init_params)\n",
    "game_runner = game_runner_manager.get_game_runner(user)"
   ]
  },
  {
   "cell_type": "markdown",
   "metadata": {},
   "source": [
    "# Run the simiulation"
   ]
  },
  {
   "cell_type": "code",
   "execution_count": 11,
   "metadata": {
    "scrolled": false
   },
   "outputs": [
    {
     "name": "stdout",
     "output_type": "stream",
     "text": [
      "{'agents': {'total_agent_types': {'cabbage': 10,\n",
      "                                  'co2_removal_SAWD': 1,\n",
      "                                  'greenhouse_medium': 1,\n",
      "                                  'human_agent': 10,\n",
      "                                  'lettuce': 10,\n",
      "                                  'multifiltration_purifier_post_treament': 1,\n",
      "                                  'solar_pv_array': 100,\n",
      "                                  'urine_recycling_processor_VCD': 1},\n",
      "            'total_consumption': {'atmo_co2': {'units': 'kg',\n",
      "                                               'value': '0.0079'},\n",
      "                                  'atmo_o2': {'units': 'g',\n",
      "                                              'value': '492.0000'},\n",
      "                                  'enrg_kwh': {'units': 'kWh',\n",
      "                                               'value': '3.2673'},\n",
      "                                  'food_edbl': {'units': 'g',\n",
      "                                                'value': '997.5000'},\n",
      "                                  'h2o_potb': {'units': 'kg',\n",
      "                                               'value': '4.2470'},\n",
      "                                  'h2o_tret': {'units': 'kg',\n",
      "                                               'value': '4.7500'},\n",
      "                                  'h2o_urin': {'units': 'kg',\n",
      "                                               'value': '1.3600'},\n",
      "                                  'sold_k': {'units': 'g', 'value': '0.0401'},\n",
      "                                  'sold_n': {'units': 'g', 'value': '0.2049'},\n",
      "                                  'sold_p': {'units': 'g', 'value': '0.0053'}},\n",
      "            'total_production': {'atmo_co2': {'units': 'kg', 'value': '0.6400'},\n",
      "                                 'atmo_h2o': {'units': 'kg', 'value': '1.1100'},\n",
      "                                 'atmo_o2': {'units': 'g', 'value': '5.7391'},\n",
      "                                 'enrg_kwh': {'units': 'kWh',\n",
      "                                              'value': '30.0000'},\n",
      "                                 'food_edbl': {'units': 'g', 'value': '0.0000'},\n",
      "                                 'h2o_potb': {'units': 'kg', 'value': '4.7500'},\n",
      "                                 'h2o_tret': {'units': 'kg', 'value': '1.3600'},\n",
      "                                 'h2o_urin': {'units': 'kg', 'value': '0.6250'},\n",
      "                                 'h2o_wste': {'units': 'kg',\n",
      "                                              'value': '0.6262'}}},\n",
      " 'hours_per_step': 1.0,\n",
      " 'is_terminated': False,\n",
      " 'model_stats': {'air_storage_1': {'atmo_ch4_ratio': 0,\n",
      "                                   'atmo_co2_ratio': 0.40473406487431207,\n",
      "                                   'atmo_h2_ratio': 0,\n",
      "                                   'atmo_h2o_ratio': 0.48105442913398977,\n",
      "                                   'atmo_n2_ratio': 0,\n",
      "                                   'atmo_o2_ratio': 0.1142115059916981},\n",
      "                 'food_storage_1': {'food_edbl_ratio': 1.0},\n",
      "                 'nutrient_storage_1': {'sold_k_ratio': 0.3333489319640759,\n",
      "                                        'sold_n_ratio': 0.3332896110461438,\n",
      "                                        'sold_p_ratio': 0.3333614569897803},\n",
      "                 'power_storage_1': {'enrg_kwh_ratio': 1.0},\n",
      "                 'water_storage_1': {'h2o_potb_ratio': 0.789010709187875,\n",
      "                                     'h2o_tret_ratio': 0,\n",
      "                                     'h2o_urin_ratio': 0.0011633727989199916,\n",
      "                                     'h2o_wste_ratio': 0.2098259180132051},\n",
      "                 'water_storage_2': {'h2o_potb_ratio': 0.17182212353945203,\n",
      "                                     'h2o_tret_ratio': 0,\n",
      "                                     'h2o_urin_ratio': 0.0011587877455046568,\n",
      "                                     'h2o_wste_ratio': 0.8270190887150433}},\n",
      " 'step': 100,\n",
      " 'storages': [{'agent_id': 1,\n",
      "               'agent_type': 'nutrient_storage',\n",
      "               'currencies': [{'capacity': 100,\n",
      "                               'name': 'sold_n',\n",
      "                               'units': 'kg',\n",
      "                               'value': '99.9795'},\n",
      "                              {'capacity': 100,\n",
      "                               'name': 'sold_p',\n",
      "                               'units': 'kg',\n",
      "                               'value': '99.9995'},\n",
      "                              {'capacity': 100,\n",
      "                               'name': 'sold_k',\n",
      "                               'units': 'kg',\n",
      "                               'value': '99.9960'}]},\n",
      "              {'agent_id': 1,\n",
      "               'agent_type': 'water_storage',\n",
      "               'currencies': [{'capacity': 400,\n",
      "                               'name': 'h2o_potb',\n",
      "                               'units': 'kg',\n",
      "                               'value': '125.1521'},\n",
      "                              {'capacity': 200,\n",
      "                               'name': 'h2o_urin',\n",
      "                               'units': 'kg',\n",
      "                               'value': '0.0312'},\n",
      "                              {'capacity': 250,\n",
      "                               'name': 'h2o_wste',\n",
      "                               'units': 'kg',\n",
      "                               'value': '31.3125'},\n",
      "                              {'capacity': 250,\n",
      "                               'name': 'h2o_tret',\n",
      "                               'units': 'kg',\n",
      "                               'value': '0.6800'}]},\n",
      "              {'agent_id': 1,\n",
      "               'agent_type': 'food_storage',\n",
      "               'currencies': [{'capacity': 1000,\n",
      "                               'name': 'food_edbl',\n",
      "                               'units': 'kg',\n",
      "                               'value': '900.2500'}]},\n",
      "              {'agent_id': 1,\n",
      "               'agent_type': 'air_storage',\n",
      "               'currencies': [{'capacity': 400,\n",
      "                               'name': 'atmo_o2',\n",
      "                               'units': 'kg',\n",
      "                               'value': '51.3739'},\n",
      "                              {'capacity': 200,\n",
      "                               'name': 'atmo_co2',\n",
      "                               'units': 'kg',\n",
      "                               'value': '163.2125'},\n",
      "                              {'capacity': 400,\n",
      "                               'name': 'atmo_n2',\n",
      "                               'units': 'kg',\n",
      "                               'value': '0.0000'},\n",
      "                              {'capacity': 200,\n",
      "                               'name': 'atmo_ch4',\n",
      "                               'units': 'kg',\n",
      "                               'value': '0.0000'},\n",
      "                              {'capacity': 100,\n",
      "                               'name': 'atmo_h2',\n",
      "                               'units': 'kg',\n",
      "                               'value': '0.0000'},\n",
      "                              {'capacity': 200,\n",
      "                               'name': 'atmo_h2o',\n",
      "                               'units': 'kg',\n",
      "                               'value': '200.0000'}]},\n",
      "              {'agent_id': 2,\n",
      "               'agent_type': 'water_storage',\n",
      "               'currencies': [{'capacity': 400,\n",
      "                               'name': 'h2o_potb',\n",
      "                               'units': 'kg',\n",
      "                               'value': '25.7899'},\n",
      "                              {'capacity': 200,\n",
      "                               'name': 'h2o_urin',\n",
      "                               'units': 'kg',\n",
      "                               'value': '0.0312'},\n",
      "                              {'capacity': 250,\n",
      "                               'name': 'h2o_wste',\n",
      "                               'units': 'kg',\n",
      "                               'value': '131.3125'},\n",
      "                              {'capacity': 250,\n",
      "                               'name': 'h2o_tret',\n",
      "                               'units': 'kg',\n",
      "                               'value': '0.6800'}]},\n",
      "              {'agent_id': 1,\n",
      "               'agent_type': 'power_storage',\n",
      "               'currencies': [{'capacity': 1000,\n",
      "                               'name': 'enrg_kwh',\n",
      "                               'units': 'kWh',\n",
      "                               'value': '1000.0000'}]}],\n",
      " 'time': 360000.0}\n"
     ]
    }
   ],
   "source": [
    "num_steps = 100\n",
    "for i in range(1, num_steps + 1):\n",
    "    agent_model_state = game_runner_manager.get_step(user, i)\n",
    "#     if i % 100 == 0:\n",
    "#         print(\"Step: {}\".format(i))\n",
    "#         pp.pprint(agent_model_state)\n",
    "pp.pprint(agent_model_state)"
   ]
  },
  {
   "cell_type": "code",
   "execution_count": 12,
   "metadata": {},
   "outputs": [],
   "source": [
    "game_runner_manager.save_all(allow_repeat_save=False)"
   ]
  },
  {
   "cell_type": "code",
   "execution_count": 13,
   "metadata": {},
   "outputs": [
    {
     "data": {
      "text/plain": [
       "[{'agent_type': 'water_storage',\n",
       "  'agent_id': 2,\n",
       "  'currencies': [{'name': 'h2o_potb',\n",
       "    'value': '28.0535',\n",
       "    'capacity': 400,\n",
       "    'units': 'kg'},\n",
       "   {'name': 'h2o_urin', 'value': '0.2812', 'capacity': 200, 'units': 'kg'},\n",
       "   {'name': 'h2o_wste', 'value': '134.1306', 'capacity': 250, 'units': 'kg'},\n",
       "   {'name': 'h2o_tret', 'value': '0.6800', 'capacity': 250, 'units': 'kg'}]},\n",
       " {'agent_type': 'power_storage',\n",
       "  'agent_id': 1,\n",
       "  'currencies': [{'name': 'enrg_kwh',\n",
       "    'value': '1000.0000',\n",
       "    'capacity': 1000,\n",
       "    'units': 'kWh'}]},\n",
       " {'agent_type': 'water_storage',\n",
       "  'agent_id': 1,\n",
       "  'currencies': [{'name': 'h2o_potb',\n",
       "    'value': '127.4158',\n",
       "    'capacity': 400,\n",
       "    'units': 'kg'},\n",
       "   {'name': 'h2o_urin', 'value': '0.2812', 'capacity': 200, 'units': 'kg'},\n",
       "   {'name': 'h2o_wste', 'value': '34.1306', 'capacity': 250, 'units': 'kg'},\n",
       "   {'name': 'h2o_tret', 'value': '0.6800', 'capacity': 250, 'units': 'kg'}]},\n",
       " {'agent_type': 'air_storage',\n",
       "  'agent_id': 1,\n",
       "  'currencies': [{'name': 'atmo_o2',\n",
       "    'value': '46.9976',\n",
       "    'capacity': 400,\n",
       "    'units': 'kg'},\n",
       "   {'name': 'atmo_co2', 'value': '168.9017', 'capacity': 200, 'units': 'kg'},\n",
       "   {'name': 'atmo_n2', 'value': '0.0000', 'capacity': 400, 'units': 'kg'},\n",
       "   {'name': 'atmo_ch4', 'value': '0.0000', 'capacity': 200, 'units': 'kg'},\n",
       "   {'name': 'atmo_h2', 'value': '0.0000', 'capacity': 100, 'units': 'kg'},\n",
       "   {'name': 'atmo_h2o', 'value': '200.0000', 'capacity': 200, 'units': 'kg'}]},\n",
       " {'agent_type': 'food_storage',\n",
       "  'agent_id': 1,\n",
       "  'currencies': [{'name': 'food_edbl',\n",
       "    'value': '891.2725',\n",
       "    'capacity': 1000,\n",
       "    'units': 'kg'}]},\n",
       " {'agent_type': 'nutrient_storage',\n",
       "  'agent_id': 1,\n",
       "  'currencies': [{'name': 'sold_n',\n",
       "    'value': '99.9777',\n",
       "    'capacity': 100,\n",
       "    'units': 'kg'},\n",
       "   {'name': 'sold_p', 'value': '99.9994', 'capacity': 100, 'units': 'kg'},\n",
       "   {'name': 'sold_k', 'value': '99.9956', 'capacity': 100, 'units': 'kg'}]}]"
      ]
     },
     "execution_count": 13,
     "metadata": {},
     "output_type": "execute_result"
    }
   ],
   "source": [
    "game_runner.agent_model.get_total_storages()"
   ]
  },
  {
   "cell_type": "code",
   "execution_count": 14,
   "metadata": {},
   "outputs": [
    {
     "data": {
      "text/plain": [
       "{'total_production': {'enrg_kwh': {'value': '30.0000', 'units': 'kWh'},\n",
       "  'atmo_o2': {'value': '5.7391', 'units': 'g'},\n",
       "  'food_edbl': {'value': '0.0000', 'units': 'g'},\n",
       "  'h2o_potb': {'value': '4.7500', 'units': 'kg'},\n",
       "  'atmo_co2': {'value': '0.6400', 'units': 'kg'},\n",
       "  'atmo_h2o': {'value': '1.1100', 'units': 'kg'},\n",
       "  'h2o_wste': {'value': '0.6262', 'units': 'kg'},\n",
       "  'h2o_urin': {'value': '0.6250', 'units': 'kg'},\n",
       "  'h2o_tret': {'value': '1.3600', 'units': 'kg'}},\n",
       " 'total_consumption': {'atmo_co2': {'value': '0.0079', 'units': 'kg'},\n",
       "  'h2o_potb': {'value': '4.2470', 'units': 'kg'},\n",
       "  'sold_n': {'value': '0.2049', 'units': 'g'},\n",
       "  'sold_p': {'value': '0.0053', 'units': 'g'},\n",
       "  'sold_k': {'value': '0.0401', 'units': 'g'},\n",
       "  'enrg_kwh': {'value': '3.2673', 'units': 'kWh'},\n",
       "  'h2o_tret': {'value': '4.7500', 'units': 'kg'},\n",
       "  'atmo_o2': {'value': '492.0000', 'units': 'g'},\n",
       "  'food_edbl': {'value': '997.5000', 'units': 'g'},\n",
       "  'h2o_urin': {'value': '1.3600', 'units': 'kg'}},\n",
       " 'total_agent_types': {'solar_pv_array': 100,\n",
       "  'lettuce': 10,\n",
       "  'greenhouse_medium': 1,\n",
       "  'co2_removal_SAWD': 1,\n",
       "  'cabbage': 10,\n",
       "  'multifiltration_purifier_post_treament': 1,\n",
       "  'human_agent': 10,\n",
       "  'urine_recycling_processor_VCD': 1}}"
      ]
     },
     "execution_count": 14,
     "metadata": {},
     "output_type": "execute_result"
    }
   ],
   "source": [
    "game_runner.agent_model.get_total_agents()"
   ]
  },
  {
   "cell_type": "code",
   "execution_count": 15,
   "metadata": {
    "scrolled": false
   },
   "outputs": [
    {
     "data": {
      "text/plain": [
       "{'step': 109,\n",
       " 'hours_per_step': 1.0,\n",
       " 'is_terminated': False,\n",
       " 'time': 392400.0,\n",
       " 'agents': {'total_production': {'enrg_kwh': {'value': '30.0000',\n",
       "    'units': 'kWh'},\n",
       "   'atmo_o2': {'value': '5.7391', 'units': 'g'},\n",
       "   'food_edbl': {'value': '0.0000', 'units': 'g'},\n",
       "   'h2o_potb': {'value': '4.7500', 'units': 'kg'},\n",
       "   'atmo_co2': {'value': '0.6400', 'units': 'kg'},\n",
       "   'atmo_h2o': {'value': '1.1100', 'units': 'kg'},\n",
       "   'h2o_wste': {'value': '0.6262', 'units': 'kg'},\n",
       "   'h2o_urin': {'value': '0.6250', 'units': 'kg'},\n",
       "   'h2o_tret': {'value': '1.3600', 'units': 'kg'}},\n",
       "  'total_consumption': {'atmo_co2': {'value': '0.0079', 'units': 'kg'},\n",
       "   'h2o_potb': {'value': '4.2470', 'units': 'kg'},\n",
       "   'sold_n': {'value': '0.2049', 'units': 'g'},\n",
       "   'sold_p': {'value': '0.0053', 'units': 'g'},\n",
       "   'sold_k': {'value': '0.0401', 'units': 'g'},\n",
       "   'enrg_kwh': {'value': '3.2673', 'units': 'kWh'},\n",
       "   'h2o_tret': {'value': '4.7500', 'units': 'kg'},\n",
       "   'atmo_o2': {'value': '492.0000', 'units': 'g'},\n",
       "   'food_edbl': {'value': '997.5000', 'units': 'g'},\n",
       "   'h2o_urin': {'value': '1.3600', 'units': 'kg'}},\n",
       "  'total_agent_types': {'solar_pv_array': 100,\n",
       "   'lettuce': 10,\n",
       "   'greenhouse_medium': 1,\n",
       "   'co2_removal_SAWD': 1,\n",
       "   'cabbage': 10,\n",
       "   'multifiltration_purifier_post_treament': 1,\n",
       "   'human_agent': 10,\n",
       "   'urine_recycling_processor_VCD': 1}},\n",
       " 'storages': [{'agent_type': 'water_storage',\n",
       "   'agent_id': 2,\n",
       "   'currencies': [{'name': 'h2o_potb',\n",
       "     'value': '28.0535',\n",
       "     'capacity': 400,\n",
       "     'units': 'kg'},\n",
       "    {'name': 'h2o_urin', 'value': '0.2812', 'capacity': 200, 'units': 'kg'},\n",
       "    {'name': 'h2o_wste', 'value': '134.1306', 'capacity': 250, 'units': 'kg'},\n",
       "    {'name': 'h2o_tret', 'value': '0.6800', 'capacity': 250, 'units': 'kg'}]},\n",
       "  {'agent_type': 'power_storage',\n",
       "   'agent_id': 1,\n",
       "   'currencies': [{'name': 'enrg_kwh',\n",
       "     'value': '1000.0000',\n",
       "     'capacity': 1000,\n",
       "     'units': 'kWh'}]},\n",
       "  {'agent_type': 'water_storage',\n",
       "   'agent_id': 1,\n",
       "   'currencies': [{'name': 'h2o_potb',\n",
       "     'value': '127.4158',\n",
       "     'capacity': 400,\n",
       "     'units': 'kg'},\n",
       "    {'name': 'h2o_urin', 'value': '0.2812', 'capacity': 200, 'units': 'kg'},\n",
       "    {'name': 'h2o_wste', 'value': '34.1306', 'capacity': 250, 'units': 'kg'},\n",
       "    {'name': 'h2o_tret', 'value': '0.6800', 'capacity': 250, 'units': 'kg'}]},\n",
       "  {'agent_type': 'air_storage',\n",
       "   'agent_id': 1,\n",
       "   'currencies': [{'name': 'atmo_o2',\n",
       "     'value': '46.9976',\n",
       "     'capacity': 400,\n",
       "     'units': 'kg'},\n",
       "    {'name': 'atmo_co2', 'value': '168.9017', 'capacity': 200, 'units': 'kg'},\n",
       "    {'name': 'atmo_n2', 'value': '0.0000', 'capacity': 400, 'units': 'kg'},\n",
       "    {'name': 'atmo_ch4', 'value': '0.0000', 'capacity': 200, 'units': 'kg'},\n",
       "    {'name': 'atmo_h2', 'value': '0.0000', 'capacity': 100, 'units': 'kg'},\n",
       "    {'name': 'atmo_h2o',\n",
       "     'value': '200.0000',\n",
       "     'capacity': 200,\n",
       "     'units': 'kg'}]},\n",
       "  {'agent_type': 'food_storage',\n",
       "   'agent_id': 1,\n",
       "   'currencies': [{'name': 'food_edbl',\n",
       "     'value': '891.2725',\n",
       "     'capacity': 1000,\n",
       "     'units': 'kg'}]},\n",
       "  {'agent_type': 'nutrient_storage',\n",
       "   'agent_id': 1,\n",
       "   'currencies': [{'name': 'sold_n',\n",
       "     'value': '99.9777',\n",
       "     'capacity': 100,\n",
       "     'units': 'kg'},\n",
       "    {'name': 'sold_p', 'value': '99.9994', 'capacity': 100, 'units': 'kg'},\n",
       "    {'name': 'sold_k', 'value': '99.9956', 'capacity': 100, 'units': 'kg'}]}],\n",
       " 'model_stats': {'air_storage_1': {'atmo_o2_ratio': 0.1142115059916981,\n",
       "   'atmo_co2_ratio': 0.40473406487431207,\n",
       "   'atmo_n2_ratio': 0,\n",
       "   'atmo_ch4_ratio': 0,\n",
       "   'atmo_h2_ratio': 0,\n",
       "   'atmo_h2o_ratio': 0.48105442913398977},\n",
       "  'water_storage_1': {'h2o_potb_ratio': 0.789010709187875,\n",
       "   'h2o_urin_ratio': 0.0011633727989199916,\n",
       "   'h2o_wste_ratio': 0.2098259180132051,\n",
       "   'h2o_tret_ratio': 0},\n",
       "  'water_storage_2': {'h2o_potb_ratio': 0.17182212353945203,\n",
       "   'h2o_urin_ratio': 0.0011587877455046568,\n",
       "   'h2o_wste_ratio': 0.8270190887150433,\n",
       "   'h2o_tret_ratio': 0},\n",
       "  'nutrient_storage_1': {'sold_n_ratio': 0.3332896110461438,\n",
       "   'sold_p_ratio': 0.3333614569897803,\n",
       "   'sold_k_ratio': 0.3333489319640759},\n",
       "  'power_storage_1': {'enrg_kwh_ratio': 1.0},\n",
       "  'food_storage_1': {'food_edbl_ratio': 1.0}}}"
      ]
     },
     "execution_count": 15,
     "metadata": {},
     "output_type": "execute_result"
    }
   ],
   "source": [
    "game_runner.agent_model.get_model_stats()"
   ]
  },
  {
   "cell_type": "code",
   "execution_count": null,
   "metadata": {},
   "outputs": [],
   "source": []
  },
  {
   "cell_type": "code",
   "execution_count": null,
   "metadata": {},
   "outputs": [],
   "source": []
  },
  {
   "cell_type": "code",
   "execution_count": null,
   "metadata": {},
   "outputs": [],
   "source": []
  },
  {
   "cell_type": "code",
   "execution_count": null,
   "metadata": {},
   "outputs": [],
   "source": []
  },
  {
   "cell_type": "code",
   "execution_count": null,
   "metadata": {},
   "outputs": [],
   "source": []
  },
  {
   "cell_type": "code",
   "execution_count": null,
   "metadata": {},
   "outputs": [],
   "source": []
  }
 ],
 "metadata": {
  "kernelspec": {
   "display_name": "Python 3",
   "language": "python",
   "name": "python3"
  },
  "language_info": {
   "codemirror_mode": {
    "name": "ipython",
    "version": 3
   },
   "file_extension": ".py",
   "mimetype": "text/x-python",
   "name": "python",
   "nbconvert_exporter": "python",
   "pygments_lexer": "ipython3",
   "version": "3.6.4"
  }
 },
 "nbformat": 4,
 "nbformat_minor": 2
}
